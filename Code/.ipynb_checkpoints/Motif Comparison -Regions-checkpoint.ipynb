{
 "cells": [
  {
   "cell_type": "code",
   "execution_count": 18,
   "id": "04ec4c56",
   "metadata": {},
   "outputs": [],
   "source": [
    "def dicmaker(): \n",
    "    import pandas as pd \n",
    "    ilist = [1,2,3,4,5,6,7,8,9,10,11,12,13,14,15]\n",
    "    namelist = [0,\"DP\",\"CD4\",\"CD8\",\"Th1\",\"Th2\",\"Th17\",\"iTreg\", \"nTreg\", \"NKT\", \"CD8-Fli1\",11,\"Th2-Fli1\",\"DP-Replicate\", 14,\"Th2 Replicate\"]\n",
    "    datadic = {}\n",
    "    for m in range(1,len(ilist)+1):\n",
    "        keyname = \"data\" +str(m)\n",
    "        infoloc = \"/home/sreedev/Downloads/Data/info\" + str(m) + \".txt\"\n",
    "        bedloc = \"/home/sreedev/Downloads/Data/bed\" + str(m) + \".bedgraph\"\n",
    "        tbloc = \"/home/sreedev/Downloads/Data/tb\" + str(m) + \".seqspec\"\n",
    "\n",
    "        infodf = pd.read_csv(infoloc,delimiter = \"\\t\",header = None)\n",
    "        tbdf = pd.read_csv(tbloc,delimiter = \"\\t\", header = None)\n",
    "        beddf = pd.read_csv(bedloc,delimiter = \"\\t\", header = None)\n",
    "\n",
    "        datalist = [infodf,tbdf,beddf]\n",
    "        datadic[keyname] = datalist\n",
    "    return datadic\n",
    "\n"
   ]
  },
  {
   "cell_type": "code",
   "execution_count": 34,
   "id": "a69ac601",
   "metadata": {},
   "outputs": [
    {
     "name": "stdout",
     "output_type": "stream",
     "text": [
      "[215, 164, 174, 29, 14, 17, 23, 16, 8, 14, 8, 5, 5]\n",
      "[83, 42, 36, 12, 24, 6, 3, 5, 0, 4, 3, 3, 2]\n",
      "[80, 78, 58, 15, 8, 4, 10, 11, 7, 2, 2, 3, 2]\n",
      "[32, 22, 39, 4, 6, 1, 3, 2, 0, 0, 3, 1, 1]\n",
      "[26, 12, 33, 4, 5, 1, 1, 4, 0, 2, 0, 0, 1]\n",
      "[18, 16, 14, 1, 0, 1, 14, 0, 0, 1, 1, 0, 2]\n",
      "[21, 12, 9, 1, 1, 22, 0, 0, 0, 1, 2, 0, 1]\n",
      "[12, 14, 15, 2, 0, 0, 1, 3, 0, 1, 0, 1, 2]\n",
      "[13, 13, 9, 0, 5, 4, 1, 0, 0, 1, 0, 0, 1]\n",
      "[9, 7, 7, 3, 0, 1, 1, 1, 0, 0, 0, 0, 1]\n",
      "[6, 1, 4, 8, 2, 1, 0, 0, 0, 0, 0, 0, 1]\n"
     ]
    }
   ],
   "source": [
    "def matching(datadic,celltype1,celltype2):\n",
    "    import re\n",
    "    dickey1 = \"data\" + str(celltype1)\n",
    "    infodf1 = datadic[dickey1][0]\n",
    "    tbdf1 = datadic[dickey1][1]\n",
    "    dickey2 = \"data\" + str(celltype2)\n",
    "    infodf2 = datadic[dickey2][0]\n",
    "    tbdf2 = datadic[dickey2][1]\n",
    "    seperators = r\":|-\"\n",
    "    for i in range(3,len(infodf1.columns)-1):\n",
    "        nalist1 = infodf1[i].tolist()\n",
    "        loclist1 = infodf1[1].tolist()\n",
    "        matchlist = []\n",
    "        background = 0\n",
    "        for n in nalist1:\n",
    "            if n < 2000:\n",
    "                background +=1\n",
    "        for j in range(3,len(infodf2.columns)-1):\n",
    "            nalist2 = infodf2[j].tolist()\n",
    "            loclist2 = infodf2[1].tolist()\n",
    "            match = 0\n",
    "            for k in range(len(nalist1)):\n",
    "                if nalist1[k] <2000:\n",
    "                    location1 = re.split(seperators,loclist1[k])\n",
    "                    for l in range(len(nalist2)):\n",
    "                        if nalist2[l] < 2000:\n",
    "                            location2 = re.split(seperators,loclist2[l])\n",
    "                            if location1[0] == location2[0]:\n",
    "                                if location1[1] > location2[1] and location1[1] < location2[2]:\n",
    "                                    match +=1\n",
    "                                    continue\n",
    "                                if location1[2] > location2[1] and location1[2] < location2[2]:\n",
    "                                    match +=1\n",
    "                                    continue\n",
    "                                if location1[2] == location2[2] and location1[1] == location2[1]:\n",
    "                                    match +=1\n",
    "                                    continue\n",
    "            matchlist.append(match)\n",
    "        print(matchlist)\n",
    "        for m in range(len(matchlist)):\n",
    "            if matchlist[m] > 0.4 * background:\n",
    "                print(i-2,m+1)\n",
    "    \n",
    "data = dicmaker()\n",
    "matching(data,1,2)\n",
    "            "
   ]
  }
 ],
 "metadata": {
  "kernelspec": {
   "display_name": "Python 3 (ipykernel)",
   "language": "python",
   "name": "python3"
  },
  "language_info": {
   "codemirror_mode": {
    "name": "ipython",
    "version": 3
   },
   "file_extension": ".py",
   "mimetype": "text/x-python",
   "name": "python",
   "nbconvert_exporter": "python",
   "pygments_lexer": "ipython3",
   "version": "3.10.9"
  }
 },
 "nbformat": 4,
 "nbformat_minor": 5
}
