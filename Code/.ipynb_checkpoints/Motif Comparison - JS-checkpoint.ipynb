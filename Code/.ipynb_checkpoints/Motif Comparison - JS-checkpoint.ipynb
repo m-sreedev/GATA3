{
 "cells": [
  {
   "cell_type": "code",
   "execution_count": 14,
   "id": "d00fe5df",
   "metadata": {},
   "outputs": [
    {
     "name": "stdout",
     "output_type": "stream",
     "text": [
      "0.0\n"
     ]
    }
   ],
   "source": [
    "from scipy.spatial import distance\n",
    "a1 = [0.5,0.25,0.25]\n",
    "a2 = [0.33,0.33,0.34]\n",
    "\n",
    "b = distance.jensenshannon(a1,a1)\n",
    "print(b)"
   ]
  },
  {
   "cell_type": "code",
   "execution_count": 3,
   "id": "a93ec401",
   "metadata": {},
   "outputs": [],
   "source": [
    "def modify(listt):\n",
    "    string = listt[0]\n",
    "    stringlist = string.split(\"[ \")\n",
    "    stringlist.pop(0)\n",
    "    modified = stringlist[0]\n",
    "    listt.pop(0)\n",
    "    listt.insert(0,modified)"
   ]
  },
  {
   "cell_type": "code",
   "execution_count": 4,
   "id": "42eb0283",
   "metadata": {},
   "outputs": [],
   "source": [
    "# Reading the files\n",
    "def motiffetch(location):\n",
    "    import pandas as pd\n",
    "\n",
    "    pssm = open(location,\"r\")\n",
    "    lines = pssm.readlines()\n",
    "    motifdict = {}\n",
    "    motif = 0\n",
    "    motiflist = []\n",
    "    for line in lines:\n",
    "        if line[0] == \"A\":\n",
    "            motiflist = []\n",
    "            motif += 1\n",
    "            linelist = line.split(\"\\t\")\n",
    "            linelist.remove(\"A\")\n",
    "            linelist.remove(\"]\\n\")\n",
    "            modify(linelist)\n",
    "            motiflist.append(linelist)\n",
    "        if line[0] == \"G\" or line[0] == \"C\":\n",
    "            linelist = line.split(\"\\t\")\n",
    "            if \"G\" in linelist:\n",
    "                linelist.remove(\"G\")\n",
    "            if \"C\" in linelist:\n",
    "                linelist.remove(\"C\")\n",
    "            linelist.remove(\"]\\n\")\n",
    "            modify(linelist)\n",
    "            motiflist.append(linelist)\n",
    "        if line[0] == \"T\":\n",
    "            linelist = line.split(\"\\t\")\n",
    "            motiflist.append(linelist)\n",
    "            linelist.remove(\"T\")\n",
    "            linelist.remove(\"]\\n\")\n",
    "            modify(linelist)\n",
    "            motifdict[motif] = motiflist\n",
    "    return motifdict"
   ]
  },
  {
   "cell_type": "code",
   "execution_count": 20,
   "id": "7f34ace0",
   "metadata": {},
   "outputs": [],
   "source": [
    "def arraymaker(loc):\n",
    "    import pandas as pd\n",
    "    dic = motiffetch(loc)\n",
    "    for i in dic.keys():\n",
    "        df = pd.DataFrame(dic[i])\n",
    "        ls = []\n",
    "        for j in df.columns:\n",
    "            total = (df[j].astype(float)).sum()\n",
    "            df[j] = (df[j].astype(float))/total\n",
    "            ls.append(df[j].tolist())\n",
    "        dic[i] = ls\n",
    "    return dic"
   ]
  },
  {
   "cell_type": "code",
   "execution_count": 44,
   "id": "68eb6ea5",
   "metadata": {},
   "outputs": [],
   "source": [
    "def motifmatch(m1,m2):\n",
    "    from scipy.spatial import distance\n",
    "    len1 = len(m1)\n",
    "    len2 = len(m2)\n",
    "    if len2 > len1:\n",
    "        big = m2\n",
    "        bigl = len2\n",
    "        small = m1\n",
    "        smalll = len1\n",
    "    else:\n",
    "        small = m2\n",
    "        smalll = len2\n",
    "        big = m1\n",
    "        bigl = len1\n",
    "    checkindex = bigl -smalll\n",
    "    js = [0]\n",
    "    for i in range(0,checkindex+1):\n",
    "        equal = big[i:i+smalll]\n",
    "        ljs = []\n",
    "        for j in range(0,len(equal)):\n",
    "            ljs.append(distance.jensenshannon(equal[j],small[j]))\n",
    "        if (sum(ljs)/len(ljs)) > (sum(js)/len(js)):\n",
    "            js = ljs\n",
    "    mean = sum(js)/len(js)\n",
    "    return js"
   ]
  },
  {
   "cell_type": "code",
   "execution_count": 49,
   "id": "c6953cb5",
   "metadata": {},
   "outputs": [
    {
     "name": "stdout",
     "output_type": "stream",
     "text": [
      "12\n",
      "12\n"
     ]
    }
   ],
   "source": [
    "loc1 = \"/home/sreedev/Downloads/Data/pssm1.txt\"\n",
    "loc2 = \"/home/sreedev/Downloads/Data/pssm2.txt\"\n",
    "motifs1 = arraymaker(loc1)\n",
    "motifs2 = arraymaker(loc2)\n",
    "print(len(motifmatch(motifs1[1],motifs2[5])))\n",
    "print(len(motifs2[1]))"
   ]
  }
 ],
 "metadata": {
  "kernelspec": {
   "display_name": "Python 3 (ipykernel)",
   "language": "python",
   "name": "python3"
  },
  "language_info": {
   "codemirror_mode": {
    "name": "ipython",
    "version": 3
   },
   "file_extension": ".py",
   "mimetype": "text/x-python",
   "name": "python",
   "nbconvert_exporter": "python",
   "pygments_lexer": "ipython3",
   "version": "3.10.9"
  }
 },
 "nbformat": 4,
 "nbformat_minor": 5
}
