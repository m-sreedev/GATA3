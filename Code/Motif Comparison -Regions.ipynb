{
 "cells": [
  {
   "cell_type": "code",
   "execution_count": 2,
   "id": "aeb097e7",
   "metadata": {},
   "outputs": [],
   "source": [
    "def dicmaker(): \n",
    "    import pandas as pd \n",
    "    ilist = [1,2,3,4,5,6,7,8,9,10,11,12,13,14,15]\n",
    "    namelist = [0,\"DP\",\"CD4\",\"CD8\",\"Th1\",\"Th2\",\"Th17\",\"iTreg\", \"nTreg\", \"NKT\", \"CD8-Fli1\",11,\"Th2-Fli1\",\"DP-Replicate\", 14,\"Th2 Replicate\"]\n",
    "    datadic = {}\n",
    "    for m in range(1,len(ilist)+1):\n",
    "        keyname = \"data\" +str(m)\n",
    "        infoloc = \"/home/sreedev/Downloads/Data/info\" + str(m) + \".txt\"\n",
    "        bedloc = \"/home/sreedev/Downloads/Data/bed\" + str(m) + \".bedgraph\"\n",
    "        tbloc = \"/home/sreedev/Downloads/Data/tb\" + str(m) + \".seqspec\"\n",
    "\n",
    "        infodf = pd.read_csv(infoloc,delimiter = \"\\t\",header = None)\n",
    "        tbdf = pd.read_csv(tbloc,delimiter = \"\\t\", header = None)\n",
    "        beddf = pd.read_csv(bedloc,delimiter = \"\\t\", header = None)\n",
    "\n",
    "        datalist = [infodf,tbdf,beddf]\n",
    "        datadic[keyname] = datalist\n",
    "    return datadic\n",
    "\n"
   ]
  },
  {
   "cell_type": "code",
   "execution_count": 9,
   "id": "883213d8",
   "metadata": {},
   "outputs": [],
   "source": [
    "def pdmaker(datadic,celltype1,celltype2):\n",
    "    import re\n",
    "    pdata = {}\n",
    "    dickey1 = \"data\" + str(celltype1)\n",
    "    infodf1 = datadic[dickey1][0]\n",
    "    tbdf1 = datadic[dickey1][1]\n",
    "    dickey2 = \"data\" + str(celltype2)\n",
    "    infodf2 = datadic[dickey2][0]\n",
    "    tbdf2 = datadic[dickey2][1]\n",
    "    seperators = r\":|-\"\n",
    "    for i in range(3,len(infodf1.columns)-1):\n",
    "        nalist1 = infodf1[i].tolist()\n",
    "        loclist1 = infodf1[1].tolist()\n",
    "        matchlist = []\n",
    "        mvalue = 0\n",
    "        nvalue = 0\n",
    "        for n in nalist1:\n",
    "            mvalue +=1\n",
    "            if n < 2000:\n",
    "                nvalue +=1\n",
    "        for j in range(3,len(infodf2.columns)-1):\n",
    "            nalist2 = infodf2[j].tolist()\n",
    "            loclist2 = infodf2[1].tolist()\n",
    "            kvalue = 0\n",
    "            xvalue = 0\n",
    "            for k in range(len(nalist1)):\n",
    "                location1 = re.split(seperators,loclist1[k])\n",
    "                for l in range(len(nalist2)):\n",
    "                    if nalist2[l] < 2000:\n",
    "                        location2 = re.split(seperators,loclist2[l])\n",
    "                        if location1[0] == location2[0]:\n",
    "                            if location1[1] > location2[1] and location1[1] < location2[2]:\n",
    "                                kvalue +=1\n",
    "                                continue\n",
    "                            if location1[2] > location2[1] and location1[2] < location2[2]:\n",
    "                                kvalue +=1\n",
    "                                continue\n",
    "                            if location1[2] == location2[2] and location1[1] == location2[1]:\n",
    "                                kvalue +=1\n",
    "                                continue\n",
    "                if nalist1[k] <2000:\n",
    "                    for l in range(len(nalist2)):\n",
    "                        if nalist2[l] < 2000:\n",
    "                            location2 = re.split(seperators,loclist2[l])\n",
    "                            if location1[0] == location2[0]:\n",
    "                                if location1[1] > location2[1] and location1[1] < location2[2]:\n",
    "                                    xvalue +=1\n",
    "                                    continue\n",
    "                                if location1[2] > location2[1] and location1[2] < location2[2]:\n",
    "                                    xvalue +=1\n",
    "                                    continue\n",
    "                                if location1[2] == location2[2] and location1[1] == location2[1]:\n",
    "                                    xvalue +=1\n",
    "            pdata[str(i-2) +\":\"+ str(j-2)] = [mvalue,kvalue,nvalue,xvalue]\n",
    "    return pdata           "
   ]
  },
  {
   "cell_type": "code",
   "execution_count": 10,
   "id": "42c16575",
   "metadata": {},
   "outputs": [],
   "source": [
    "def pvalue(pdata):\n",
    "    from scipy.stats import hypergeom\n",
    "    for i in pdata.keys():\n",
    "        dist = hypergeom(pdata[i][0],pdata[i][1],pdata[i][2])\n",
    "        x = pdata[i][3]\n",
    "        pvalue = dist.sf(x-1)\n",
    "        if pvalue < 0.05:\n",
    "            return i\n"
   ]
  },
  {
   "cell_type": "code",
   "execution_count": 12,
   "id": "e0763524",
   "metadata": {},
   "outputs": [
    {
     "data": {
      "text/plain": [
       "'1:3'"
      ]
     },
     "execution_count": 12,
     "metadata": {},
     "output_type": "execute_result"
    }
   ],
   "source": [
    "data = dicmaker()\n",
    "pdata = pdmaker(data,1,2)\n",
    "pvalue(pdata)"
   ]
  }
 ],
 "metadata": {
  "kernelspec": {
   "display_name": "Python 3 (ipykernel)",
   "language": "python",
   "name": "python3"
  },
  "language_info": {
   "codemirror_mode": {
    "name": "ipython",
    "version": 3
   },
   "file_extension": ".py",
   "mimetype": "text/x-python",
   "name": "python",
   "nbconvert_exporter": "python",
   "pygments_lexer": "ipython3",
   "version": "3.10.9"
  }
 },
 "nbformat": 4,
 "nbformat_minor": 5
}
