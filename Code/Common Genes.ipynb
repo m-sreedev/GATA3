{
 "cells": [
  {
   "cell_type": "code",
   "execution_count": 8,
   "id": "a3b7242a",
   "metadata": {},
   "outputs": [
    {
     "name": "stdout",
     "output_type": "stream",
     "text": [
      "[201, 23, 2, 3, 28, 37]\n",
      "[23, 624, 6, 5, 65, 85]\n",
      "[2, 6, 25, 1, 4, 5]\n",
      "[3, 5, 1, 53, 6, 9]\n",
      "[28, 65, 4, 6, 1316, 304]\n",
      "[37, 85, 5, 9, 304, 1680]\n"
     ]
    }
   ],
   "source": [
    "import pandas as pd\n",
    "df = pd.read_excel(\"/home/sreedev/Downloads/Genes/regulated.xls\",sheet_name = None)\n",
    "genedict = {}\n",
    "for i in df.keys():\n",
    "    genelist = df[i].iloc[:,0]\n",
    "    genedict[i] = genelist\n",
    "for j in genedict.values():\n",
    "    matchlist = []\n",
    "    for k in genedict.values():\n",
    "        count = 0\n",
    "        for m in j:\n",
    "            for n in k:\n",
    "                if m == n:\n",
    "                    count +=1\n",
    "        matchlist.append(count)\n",
    "    print(matchlist)\n"
   ]
  }
 ],
 "metadata": {
  "kernelspec": {
   "display_name": "Python 3 (ipykernel)",
   "language": "python",
   "name": "python3"
  },
  "language_info": {
   "codemirror_mode": {
    "name": "ipython",
    "version": 3
   },
   "file_extension": ".py",
   "mimetype": "text/x-python",
   "name": "python",
   "nbconvert_exporter": "python",
   "pygments_lexer": "ipython3",
   "version": "3.10.9"
  }
 },
 "nbformat": 4,
 "nbformat_minor": 5
}
