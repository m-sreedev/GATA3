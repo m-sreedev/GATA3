{
 "cells": [
  {
   "cell_type": "code",
   "execution_count": 1,
   "id": "684cb95f",
   "metadata": {},
   "outputs": [],
   "source": [
    " def entroper(p):   \n",
    "    import math\n",
    "    entropy = 0\n",
    "    for i in p:\n",
    "        if i == 0:\n",
    "            entropy += 0\n",
    "        else:\n",
    "            entropy += i*math.log(i,2)\n",
    "    return abs(entropy)"
   ]
  },
  {
   "cell_type": "code",
   "execution_count": 2,
   "id": "0c987d0f",
   "metadata": {},
   "outputs": [],
   "source": [
    "def modify(listt):\n",
    "    string = listt[0]\n",
    "    stringlist = string.split(\"[ \")\n",
    "    stringlist.pop(0)\n",
    "    modified = stringlist[0]\n",
    "    listt.pop(0)\n",
    "    listt.insert(0,modified)"
   ]
  },
  {
   "cell_type": "code",
   "execution_count": 3,
   "id": "d641ce6c",
   "metadata": {},
   "outputs": [],
   "source": [
    "# Reading the files\n",
    "def motiffetch(location):\n",
    "    import pandas as pd\n",
    "\n",
    "    pssm = open(location,\"r\")\n",
    "    lines = pssm.readlines()\n",
    "    motifdict = {}\n",
    "    motif = 0\n",
    "    motiflist = []\n",
    "    for line in lines:\n",
    "        if line[0] == \"A\":\n",
    "            motiflist = []\n",
    "            motif += 1\n",
    "            linelist = line.split(\"\\t\")\n",
    "            linelist.remove(\"A\")\n",
    "            linelist.remove(\"]\\n\")\n",
    "            modify(linelist)\n",
    "            motiflist.append(linelist)\n",
    "        if line[0] == \"G\" or line[0] == \"C\":\n",
    "            linelist = line.split(\"\\t\")\n",
    "            if \"G\" in linelist:\n",
    "                linelist.remove(\"G\")\n",
    "            if \"C\" in linelist:\n",
    "                linelist.remove(\"C\")\n",
    "            linelist.remove(\"]\\n\")\n",
    "            modify(linelist)\n",
    "            motiflist.append(linelist)\n",
    "        if line[0] == \"T\":\n",
    "            linelist = line.split(\"\\t\")\n",
    "            motiflist.append(linelist)\n",
    "            linelist.remove(\"T\")\n",
    "            linelist.remove(\"]\\n\")\n",
    "            modify(linelist)\n",
    "            motifdict[motif] = motiflist\n",
    "    return motifdict"
   ]
  },
  {
   "cell_type": "code",
   "execution_count": 4,
   "id": "b33b724c",
   "metadata": {},
   "outputs": [],
   "source": [
    "def arraymaker(loc):\n",
    "    import pandas as pd\n",
    "    dic = motiffetch(loc)\n",
    "    for i in dic.keys():\n",
    "        df = pd.DataFrame(dic[i])\n",
    "        ls = []\n",
    "        for j in df.columns:\n",
    "            total = (df[j].astype(float)).sum()\n",
    "            df[j] = (df[j].astype(float))/total\n",
    "            ls.append(df[j].tolist())\n",
    "        dic[i] = ls\n",
    "    return dic"
   ]
  },
  {
   "cell_type": "code",
   "execution_count": 5,
   "id": "2fd45b19",
   "metadata": {},
   "outputs": [],
   "source": [
    "def edic(loc):\n",
    "    c = arraymaker(loc)\n",
    "    import pandas as pd\n",
    "    dic = motiffetch(loc)\n",
    "    entropydic = {}\n",
    "    for i in dic.keys():\n",
    "        df = pd.DataFrame(dic[i])\n",
    "        for j in df.columns:\n",
    "            total = (df[j].astype(float)).sum()\n",
    "            df[j] = (df[j].astype(float))/total\n",
    "        entropylist = []\n",
    "        for k in df.columns:\n",
    "            column = df[k].tolist()\n",
    "            entropylist.append(entroper(column))\n",
    "        entropydic[i] = entropylist\n",
    "    return [c,entropydic]"
   ]
  },
  {
   "cell_type": "code",
   "execution_count": 6,
   "id": "9f009559",
   "metadata": {},
   "outputs": [],
   "source": [
    "def revdic(locs):\n",
    "    diclist = edic(locs)\n",
    "    dic = diclist[0]\n",
    "    oldedic = diclist[1]\n",
    "    newdic = {}\n",
    "    for i in dic.keys():\n",
    "        pos = dic[i]\n",
    "        revpos = pos[::-1]\n",
    "        newpos = []\n",
    "        for j in range(len(revpos)):\n",
    "            oldprob = revpos[j]\n",
    "            newprob = oldprob[::-1]\n",
    "            newpos.append(newprob)\n",
    "        newdic[i] = newpos\n",
    "    newedic = {}\n",
    "    for k in oldedic.keys():\n",
    "        olde = oldedic[k]\n",
    "        newe = olde[::-1]\n",
    "        newedic[k] = newe\n",
    "    return [newdic,newedic]\n",
    "        "
   ]
  },
  {
   "cell_type": "code",
   "execution_count": 7,
   "id": "12238e12",
   "metadata": {},
   "outputs": [],
   "source": [
    "def generator(dic,index):\n",
    "    import random\n",
    "    values = dic[index]\n",
    "    width = len(values[0])\n",
    "    characters = [\"A\",\"C\",\"G\",\"T\"]\n",
    "    letters = []\n",
    "    for i in range(width):\n",
    "        weights = []\n",
    "        for j in range(4):\n",
    "            weight = float(values[j][i])\n",
    "            weights.append(weight)\n",
    "        element = random.choices(characters,weights,k=1)\n",
    "        letter = \"\".join(element)\n",
    "        letters.append(letter)\n",
    "    word = \"\".join(letters)"
   ]
  },
  {
   "cell_type": "code",
   "execution_count": 8,
   "id": "a247de0b",
   "metadata": {},
   "outputs": [],
   "source": [
    "def ugdic():\n",
    "    import pandas as pd\n",
    "    ugmotifs = open(\"../Files/Data/ugmotifs.txt\",\"r\")\n",
    "    lines = ugmotifs.readlines()\n",
    "    motifs = {}\n",
    "    for i in range(len(lines)):\n",
    "        s = lines[i].strip(\"\\n\")\n",
    "        k = s.split(\"\\t\")\n",
    "        motifs[i] = k\n",
    "    return motifs\n"
   ]
  },
  {
   "cell_type": "code",
   "execution_count": 28,
   "id": "ee62fe54",
   "metadata": {},
   "outputs": [],
   "source": [
    "def motifslist():\n",
    "    motifs = ugdic()\n",
    "    keys = motifs.keys()\n",
    "    motifslist = []\n",
    "    for i in keys:\n",
    "        loc = \"../Files/Data/pssm\"\n",
    "        data = motifs[i]\n",
    "        if int(data[1]) != 0:\n",
    "            if data[2] == \"r\":\n",
    "                dic = revdic(loc + str(data[0]) + \".txt\")\n",
    "                motif = dic[0][int(data[1])]\n",
    "                entropy = dic[1][int(data[1])]\n",
    "                motifslist.append([motif,entropy])\n",
    "            if data[2] == \"f\":\n",
    "                dic = edic(loc + str(data[0]) + \".txt\")\n",
    "                motif = dic[0][int(data[1])]\n",
    "                entropy = dic[1][int(data[1])]\n",
    "                motifslist.append([motif,entropy])\n",
    "    return motifslist \n"
   ]
  },
  {
   "cell_type": "code",
   "execution_count": 29,
   "id": "1588df8b",
   "metadata": {},
   "outputs": [
    {
     "name": "stdout",
     "output_type": "stream",
     "text": [
      "9\n"
     ]
    }
   ],
   "source": [
    "def aligner():\n",
    "    motifs = motifslist()\n",
    "    aligned = []\n",
    "    for i in range(len(motifs)):\n",
    "        motif = motifs[i]\n",
    "        pssm = motif[0]\n",
    "        entropy = motif[1]\n",
    "        for j in range(len(pssm)):\n",
    "            if pssm[j][2] > 0.8:\n",
    "                newpssm = pssm[j:j+6]\n",
    "                newentropy = entropy[j:j+6]\n",
    "                aligned.append([newpssm,newentropy])\n",
    "                break\n",
    "    return aligned           "
   ]
  },
  {
   "cell_type": "code",
   "execution_count": 46,
   "id": "2ff4aa73",
   "metadata": {},
   "outputs": [
    {
     "data": {
      "text/plain": [
       "[[0.017273795272501783,\n",
       "  0.00012103606874848706,\n",
       "  0.9825165633069867,\n",
       "  8.86053517632465e-05],\n",
       " [0.9909107991419062,\n",
       "  8.86053517632465e-05,\n",
       "  0.008901033578811621,\n",
       "  9.956192751891676e-05],\n",
       " [0.008038854649117258,\n",
       "  0.006845928539724903,\n",
       "  0.0047464372879268595,\n",
       "  0.9803687795232309],\n",
       " [0.8608594503273724,\n",
       "  0.00020924879681941827,\n",
       "  0.06516238953767846,\n",
       "  0.07376891133812977],\n",
       " [0.8452741909650323,\n",
       "  0.010339294807872813,\n",
       "  0.12263662850572832,\n",
       "  0.021749885721366644],\n",
       " [0.20279565304803343,\n",
       "  0.23106738129202734,\n",
       "  0.5216732939302622,\n",
       "  0.04446367172967706]]"
      ]
     },
     "execution_count": 46,
     "metadata": {},
     "output_type": "execute_result"
    }
   ],
   "source": [
    "def averager():\n",
    "    gatas = aligner()\n",
    "    unigata = []\n",
    "    for k in range(6):\n",
    "        unipssm = []\n",
    "        asum = 0\n",
    "        csum = 0\n",
    "        gsum = 0\n",
    "        tsum  = 0\n",
    "        for i  in gatas:\n",
    "            pssm = i[0]\n",
    "            position = pssm[k]\n",
    "            asum += position[0]\n",
    "            csum += position[1]\n",
    "            gsum += position[2]\n",
    "            tsum += position[3]\n",
    "        unipssm.append(asum/9)\n",
    "        unipssm.append(csum/9)\n",
    "        unipssm.append(gsum/9)\n",
    "        unipssm.append(tsum/9)\n",
    "        unigata.append(unipssm)\n",
    "        \n",
    "\n",
    "    return unigata\n",
    "\n",
    "averager()"
   ]
  },
  {
   "cell_type": "code",
   "execution_count": 56,
   "id": "5c0bbde6",
   "metadata": {},
   "outputs": [
    {
     "ename": "IndexError",
     "evalue": "index 4 is out of bounds for axis 1 with size 4",
     "output_type": "error",
     "traceback": [
      "\u001b[1;31m---------------------------------------------------------------------------\u001b[0m",
      "\u001b[1;31mIndexError\u001b[0m                                Traceback (most recent call last)",
      "Cell \u001b[1;32mIn[56], line 11\u001b[0m\n\u001b[0;32m      9\u001b[0m     y_offset \u001b[38;5;241m=\u001b[39m \u001b[38;5;241m0\u001b[39m\n\u001b[0;32m     10\u001b[0m     \u001b[38;5;28;01mfor\u001b[39;00m j, base \u001b[38;5;129;01min\u001b[39;00m \u001b[38;5;28menumerate\u001b[39m(bases):\n\u001b[1;32m---> 11\u001b[0m         ax\u001b[38;5;241m.\u001b[39mbar(i, \u001b[43mfrequency_matrix\u001b[49m\u001b[43m[\u001b[49m\u001b[43mj\u001b[49m\u001b[43m,\u001b[49m\u001b[43m \u001b[49m\u001b[43mi\u001b[49m\u001b[43m]\u001b[49m, bottom\u001b[38;5;241m=\u001b[39my_offset, color\u001b[38;5;241m=\u001b[39mbase)\n\u001b[0;32m     12\u001b[0m         y_offset \u001b[38;5;241m+\u001b[39m\u001b[38;5;241m=\u001b[39m frequency_matrix[j, i]\n\u001b[0;32m     14\u001b[0m ax\u001b[38;5;241m.\u001b[39mset_xticks(np\u001b[38;5;241m.\u001b[39marange(sequence_length))\n",
      "\u001b[1;31mIndexError\u001b[0m: index 4 is out of bounds for axis 1 with size 4"
     ]
    },
    {
     "data": {
      "image/png": "[encoded data removed]",
      "text/plain": [
       "<Figure size 1000x600 with 1 Axes>"
      ]
     },
     "metadata": {},
     "output_type": "display_data"
    }
   ],
   "source": [
    "import matplotlib.pyplot as plt\n",
    "import numpy as np\n",
    "\n",
    "frequency_matrix = np.array(averager())\n",
    "sequence_length = 6\n",
    "fig, ax = plt.subplots(figsize=(10, 6))\n",
    "bases = 'rgby'\n",
    "for i in range(sequence_length):\n",
    "    y_offset = 0\n",
    "    for j, base in enumerate(bases):\n",
    "        ax.bar(i, frequency_matrix[j, i], bottom=y_offset, color=base)\n",
    "        y_offset += frequency_matrix[j, i]\n",
    "\n",
    "ax.set_xticks(np.arange(sequence_length))\n",
    "ax.set_xticklabels(range(1, sequence_length + 1))\n",
    "ax.set_ylabel('Probability')\n",
    "ax.set_xlabel('Position')\n",
    "\n",
    "plt.legend(bases)\n",
    "plt.title('DNA Sequence Logo')\n",
    "plt.show()"
   ]
  }
 ],
 "metadata": {
  "kernelspec": {
   "display_name": "Python 3 (ipykernel)",
   "language": "python",
   "name": "python3"
  },
  "language_info": {
   "codemirror_mode": {
    "name": "ipython",
    "version": 3
   },
   "file_extension": ".py",
   "mimetype": "text/x-python",
   "name": "python",
   "nbconvert_exporter": "python",
   "pygments_lexer": "ipython3",
   "version": "3.10.9"
  }
 },
 "nbformat": 4,
 "nbformat_minor": 5
}
